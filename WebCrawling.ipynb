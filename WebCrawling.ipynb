{
 "cells": [
  {
   "cell_type": "code",
   "execution_count": 10,
   "metadata": {},
   "outputs": [],
   "source": [
    "## parser.py\n",
    "import requests\n",
    "import csv\n",
    "from bs4 import BeautifulSoup"
   ]
  },
  {
   "cell_type": "code",
   "execution_count": 11,
   "metadata": {},
   "outputs": [],
   "source": [
    "## HTTP GET Request\n",
    "req = requests.get('https://kr.noxinfluencer.com/youtube/channel/UCw8ZhLPdQ0u_Y-TLKd61hGA?tab=videos')\n",
    "## HTML 소스 가져오기\n",
    "html = req.text"
   ]
  },
  {
   "cell_type": "code",
   "execution_count": 12,
   "metadata": {},
   "outputs": [],
   "source": [
    "## BeautifulSoup으로 html소스를 python객체로 변환하기\n",
    "## 첫 인자는 html소스코드, 두 번째 인자는 어떤 parser를 이용할지 명시.\n",
    "## 이 글에서는 Python 내장 html.parser를 이용했다.\n",
    "soup = BeautifulSoup(html, 'html.parser')\n",
    "name = soup.find('span', {'class':'username'}).text\n",
    "title = soup.select_one('#video-hot-block > div.detail.pull-right > a').text\n",
    "date = soup.find('p', {'class':'publised-date'}).text\n",
    "data = soup.find_all('span', {'class' : 'value'})\n"
   ]
  },
  {
   "cell_type": "code",
   "execution_count": 13,
   "metadata": {},
   "outputs": [],
   "source": [
    "for x in data:\n",
    "    views = data[0].text\n",
    "    likes = data[1].text\n",
    "    hates = data[2].text\n",
    "    comments = data[3].text"
   ]
  },
  {
   "cell_type": "code",
   "execution_count": 14,
   "metadata": {},
   "outputs": [
    {
     "name": "stdout",
     "output_type": "stream",
     "text": [
      "1MILLION Dance Studio\n",
      " 화사 (Hwasa) - Maria / Lia X Tina X Yeji Choreography \n",
      " 2020-07-14  \n",
      "1403.69만\n",
      "76.56만\n",
      "7769\n",
      "1.16만\n"
     ]
    }
   ],
   "source": [
    "# likes = soup.find('span', {'class' : 'value'})\n",
    "# hates = soup.find('span', {'class' : 'value'})\n",
    "# comments = soup.find('span', {'class' : 'value'})\n",
    "print(name)\n",
    "print(title)\n",
    "print(date)\n",
    "print(views)\n",
    "print(likes)\n",
    "print(hates)\n",
    "print(comments)"
   ]
  },
  {
   "cell_type": "code",
   "execution_count": 15,
   "metadata": {},
   "outputs": [
    {
     "data": {
      "text/plain": [
       "119"
      ]
     },
     "execution_count": 15,
     "metadata": {},
     "output_type": "execute_result"
    }
   ],
   "source": [
    "f = open('most_viewed_video.csv', 'a', encoding='utf-8', newline='')\n",
    "fields=['', name, title, date, views, likes, hates, comments]\n",
    "writer = csv.writer(f)\n",
    "writer.writerow(fields)"
   ]
  },
  {
   "cell_type": "code",
   "execution_count": 16,
   "metadata": {},
   "outputs": [
    {
     "name": "stdout",
     "output_type": "stream",
     "text": [
      "close\n"
     ]
    }
   ],
   "source": [
    "f.close()\n",
    "print('close')"
   ]
  }
 ],
 "metadata": {
  "kernelspec": {
   "display_name": "Python 3",
   "language": "python",
   "name": "python3"
  },
  "language_info": {
   "codemirror_mode": {
    "name": "ipython",
    "version": 3
   },
   "file_extension": ".py",
   "mimetype": "text/x-python",
   "name": "python",
   "nbconvert_exporter": "python",
   "pygments_lexer": "ipython3",
   "version": "3.7.6"
  }
 },
 "nbformat": 4,
 "nbformat_minor": 4
}
