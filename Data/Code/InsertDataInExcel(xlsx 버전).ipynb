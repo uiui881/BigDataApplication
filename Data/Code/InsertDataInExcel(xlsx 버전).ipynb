{
 "cells": [
  {
   "cell_type": "code",
   "execution_count": 124,
   "metadata": {},
   "outputs": [],
   "source": [
    "import pandas as pd\n",
    "import numpy as np\n",
    "\n",
    "import openpyxl\n"
   ]
  },
  {
   "cell_type": "code",
   "execution_count": 125,
   "metadata": {},
   "outputs": [],
   "source": [
    "filename = \"Opening_cost.xlsx\"\n",
    "book = openpyxl.load_workbook(filename)\n",
    "sheet = book.worksheets[0]"
   ]
  },
  {
   "cell_type": "code",
   "execution_count": 126,
   "metadata": {},
   "outputs": [],
   "source": [
    "data = []"
   ]
  },
  {
   "cell_type": "code",
   "execution_count": 127,
   "metadata": {},
   "outputs": [],
   "source": [
    "for row in sheet.rows :\n",
    "    data.append([\n",
    "        row[0].value,\n",
    "        row[1].value,\n",
    "        row[2].value,\n",
    "        row[3].value,\n",
    "        row[4].value,\n",
    "        row[5].value,\n",
    "        row[6].value\n",
    "    ])"
   ]
  },
  {
   "cell_type": "code",
   "execution_count": 128,
   "metadata": {},
   "outputs": [
    {
     "data": {
      "text/plain": [
       "[['Brand_id',\n",
       "  'Subscript_fee',\n",
       "  'Education_fee',\n",
       "  'Deposit_fee',\n",
       "  'Extra_fee',\n",
       "  'Cost_per_Area',\n",
       "  'Standard_Area'],\n",
       " [1, 9900, 3300, 5000, 110270, 2090, 66],\n",
       " [2, 27500, 1650, 10000, 254500, 1822, 148.5],\n",
       " [3, 0, 3300, 2000, 51590, 1581, 26.4],\n",
       " [4, 0, 0, 0, 61226, 2000, 33],\n",
       " [5, 6050, 550, 5000, 72749, 1650, 49.5],\n",
       " [24, 5500, 3300, 3000, 41690, 1650, 26.4],\n",
       " [6, 5500, 3300, 5000, 52140, 2090, 26.4],\n",
       " [7, 3300, 770, 30000, 276686, 2073, 198],\n",
       " [8, 14300, 1650, 10000, 200200, 2200, 132],\n",
       " [9, 5500, 2200, 5000, 70510, 1767, 49.5],\n",
       " [10, 5500, 1650, 5000, 55400, 1870, 33],\n",
       " [11, 11000, 0, 10000, 169108, 2200, 99],\n",
       " [12, 5500, 3300, 5000, 59550, 1870, 33],\n",
       " [13, 3300, 3300, 2000, 58916, 2475, 26.4],\n",
       " [14, 5500, 3300, 0, 65660, 2090, 33],\n",
       " [15, 7700, 8800, 2000, 55000, 2200, 33],\n",
       " [16, 5500, 1100, 5000, 49300, 1650, 26.4],\n",
       " [17, 3300, 2200, 2000, 34900, 1438, 26.4],\n",
       " [18, 2200, 1100, 5000, 60720, 2750, 33],\n",
       " [19, 7700, 3300, 10000, 161800, 2825, 132],\n",
       " [20, 5500, 3300, 3000, 54800, 2200, 33],\n",
       " [27, 11000, 0, 5000, 161700, 2400, 108.9],\n",
       " [30, 16500, 0, 5000, 249500, 3080, 165],\n",
       " [23, 11000, 5500, 0, 72600, 2888, 26.4],\n",
       " [25, 11000, 5500, 0, 72330, 2888, 26.4],\n",
       " [29, 9350, 1650, 5000, 105500, 2300, 66],\n",
       " [26, 10890, 1100, 3000, 75960, 1870, 66],\n",
       " [28, 3300, 1650, 3000, 54560, 1870, 33],\n",
       " [21, 5500, 5500, 2000, 59213, 5921, 33],\n",
       " [22, 7700, 3300, 10000, 156051, 2983, 99]]"
      ]
     },
     "execution_count": 128,
     "metadata": {},
     "output_type": "execute_result"
    }
   ],
   "source": [
    "data"
   ]
  },
  {
   "cell_type": "code",
   "execution_count": null,
   "metadata": {},
   "outputs": [],
   "source": []
  },
  {
   "cell_type": "code",
   "execution_count": 129,
   "metadata": {},
   "outputs": [],
   "source": [
    "f = open('opening_cost.txt', 'w');\n",
    "for line in data :\n",
    "    qquery = \"insert opening_cost('brand_id', 'subscript_fee', 'education_fee', 'deposit_fee', 'extra_fee', 'cost_per_area', 'standard_area') values(\"+str(line[0])+\", \"+str(line[1])+\", \"+str(line[2])+\", \"+str(line[3])+\", \"+str(line[4])+\", \"+str(line[5])+\", \"+str(line[6])+\" ); \"\n",
    "    f.write(qquery);\n",
    "    f.write(\"\\n\")\n",
    "    \n",
    "    \n",
    "f.close()    "
   ]
  },
  {
   "cell_type": "code",
   "execution_count": null,
   "metadata": {},
   "outputs": [],
   "source": []
  },
  {
   "cell_type": "code",
   "execution_count": null,
   "metadata": {},
   "outputs": [],
   "source": []
  }
 ],
 "metadata": {
  "kernelspec": {
   "display_name": "Python 3",
   "language": "python",
   "name": "python3"
  },
  "language_info": {
   "codemirror_mode": {
    "name": "ipython",
    "version": 3
   },
   "file_extension": ".py",
   "mimetype": "text/x-python",
   "name": "python",
   "nbconvert_exporter": "python",
   "pygments_lexer": "ipython3",
   "version": "3.7.6"
  }
 },
 "nbformat": 4,
 "nbformat_minor": 4
}
